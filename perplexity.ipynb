{
 "cells": [
  {
   "cell_type": "code",
   "execution_count": 1,
   "id": "bf5f48c3-540b-471d-9aae-47c562b30b85",
   "metadata": {},
   "outputs": [
    {
     "name": "stderr",
     "output_type": "stream",
     "text": [
      "2022-03-15 16:36:29 | INFO | fairseq.tasks.text_to_speech | Please install tensorboardX: pip install tensorboardX\n"
     ]
    }
   ],
   "source": [
    "import copy\n",
    "import json\n",
    "import math\n",
    "\n",
    "import numpy as np\n",
    "\n",
    "from fairseq.models.roberta import RobertaModel\n",
    "import torch\n",
    "import esm\n",
    "\n",
    "from perplexity import compute_pl_logits, compute_scores, compute_pseudo_ppl, compute_boundaries"
   ]
  },
  {
   "cell_type": "code",
   "execution_count": 114,
   "id": "bb5405f1-46b1-48ed-a71f-12875daeae63",
   "metadata": {},
   "outputs": [],
   "source": [
    "# DO PADDING MASK!!\n",
    "# Spatial breakdown of scores? Stratify by slices of length distribution"
   ]
  },
  {
   "cell_type": "code",
   "execution_count": 2,
   "id": "34965b55-2cbe-4028-87bb-417c3fe8f058",
   "metadata": {},
   "outputs": [],
   "source": [
    "# modify this for data loading\n",
    "data_path = \"030922-joint-OVA-data-Golden-EpGrp-Jac.json\"\n",
    "\n",
    "with open(data_path, \"r\") as f:\n",
    "    data = json.load(f)\n",
    "\n",
    "examples = [(d[\"HC\"], d[\"HC_AHo\"]) for d in data]"
   ]
  },
  {
   "cell_type": "code",
   "execution_count": 4,
   "id": "05da3223-2393-4791-bf59-01fc2b97a825",
   "metadata": {},
   "outputs": [
    {
     "name": "stdout",
     "output_type": "stream",
     "text": [
      "fr1: 6.993439968208059\n",
      "cdr1: 4.851124093600071\n",
      "fr2: 6.05599299529612\n",
      "cdr2: 11.804280267366023\n",
      "fr3: 5.069286801158001\n",
      "cdr3: 21.466355094255473\n",
      "fr4: 10.584183552105186\n"
     ]
    }
   ],
   "source": [
    "model, alphabet = esm.pretrained.esm1_t6_43M_UR50S()\n",
    "\n",
    "use_hc = True\n",
    "for region in [\"fr1\", \"cdr1\", \"fr2\", \"cdr2\", \"fr3\", \"cdr3\", \"fr4\"]:\n",
    "    scores = []\n",
    "    for seq, aho in examples[:20]:\n",
    "        start, end = compute_boundaries(aho, region, hc=use_hc)\n",
    "        logits = compute_pl_logits(seq, alphabet, model, start, end)\n",
    "        s_ = compute_scores(seq[start:end], alphabet, logits)\n",
    "        scores.extend(s_)\n",
    "    pppl = compute_pseudo_ppl(scores)\n",
    "    print(f\"{region}: {pppl}\")"
   ]
  },
  {
   "cell_type": "code",
   "execution_count": 121,
   "id": "128c0d8b-187b-4574-a391-6d3504ee0794",
   "metadata": {},
   "outputs": [],
   "source": [
    "#model = RobertaModel.from_pretrained(\"biophiVH/\", \"checkpoint_best.pt\") "
   ]
  },
  {
   "cell_type": "code",
   "execution_count": null,
   "id": "298fc0dd-fb96-4a33-854f-33c3e1bff549",
   "metadata": {},
   "outputs": [],
   "source": [
    "model, alphabet = esm.pretrained.esm1_t6_43M_UR50S()\n",
    "\n",
    "use_hc = True\n",
    "for region in [\"fr1\", \"cdr1\", \"fr2\", \"cdr2\", \"fr3\", \"cdr3\", \"fr4\"]:\n",
    "    scores = []\n",
    "    for seq, aho in examples[:20]:\n",
    "        start, end = compute_boundaries(aho, region, hc=use_hc)\n",
    "        logits = compute_pl_logits(seq, alphabet, model, start, end)\n",
    "        s_ = compute_scores(seq[start:end], logits)\n",
    "        scores.extend(s_)\n",
    "    pppl = compute_pseudo_ppl(scores)\n",
    "    print(f\"{region}: {pppl}\")"
   ]
  }
 ],
 "metadata": {
  "kernelspec": {
   "display_name": "Python 3",
   "language": "python",
   "name": "python3"
  },
  "language_info": {
   "codemirror_mode": {
    "name": "ipython",
    "version": 3
   },
   "file_extension": ".py",
   "mimetype": "text/x-python",
   "name": "python",
   "nbconvert_exporter": "python",
   "pygments_lexer": "ipython3",
   "version": "3.6.9"
  }
 },
 "nbformat": 4,
 "nbformat_minor": 5
}
